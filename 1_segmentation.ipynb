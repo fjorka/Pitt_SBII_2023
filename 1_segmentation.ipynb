{
  "nbformat": 4,
  "nbformat_minor": 0,
  "metadata": {
    "colab": {
      "provenance": []
    },
    "kernelspec": {
      "name": "python3",
      "display_name": "Python 3"
    },
    "language_info": {
      "name": "python"
    }
  },
  "cells": [
    {
      "cell_type": "markdown",
      "source": [
        "## Nuclei segmentation"
      ],
      "metadata": {
        "id": "QQJSDXUOuoRn"
      }
    },
    {
      "cell_type": "markdown",
      "source": [
        "#### Preparations"
      ],
      "metadata": {
        "id": "gehlFh99zCib"
      }
    },
    {
      "cell_type": "markdown",
      "source": [
        "To test different segmentation algorithms, we need access to a test image. When you execute the cell below, a github repository will be cloned and test images will be available in your session. \n",
        "\n",
        "You can see available files by clicking the folder icon in the left side menu. \n",
        "\n",
        "Alternatively you can upload files directly from your drive to the session sotrage by using the upload button (in the Files tab)."
      ],
      "metadata": {
        "id": "AtVkzGfNuwr_"
      }
    },
    {
      "cell_type": "code",
      "execution_count": null,
      "metadata": {
        "id": "B8Rmi5JSmCpR"
      },
      "outputs": [],
      "source": [
        "!git clone https://github.com/fjorka/Pitt_SBII_2023.git"
      ]
    },
    {
      "cell_type": "markdown",
      "source": [
        "The cell below installs and imports necessary libraries which make available the functions to open, visualize and segment images."
      ],
      "metadata": {
        "id": "qKTaJ_TawJ6m"
      }
    },
    {
      "cell_type": "code",
      "source": [
        "!pip install cellpose\n",
        "!pip install scikit-image"
      ],
      "metadata": {
        "id": "Zs6b6r6XovOb"
      },
      "execution_count": null,
      "outputs": []
    },
    {
      "cell_type": "code",
      "source": [
        "import pandas as pd\n",
        "import numpy as np\n",
        "from tifffile import imread, imsave\n",
        "import matplotlib.pyplot as plt\n",
        "from cellpose import models\n",
        "from skimage.measure import regionprops_table"
      ],
      "metadata": {
        "id": "-M7PnXt1mEgX"
      },
      "execution_count": null,
      "outputs": []
    },
    {
      "cell_type": "markdown",
      "source": [
        "#### Open and display test image"
      ],
      "metadata": {
        "id": "XIlI_A9bx6y5"
      }
    },
    {
      "cell_type": "code",
      "source": [
        "# define pathway to the image\n",
        "im_path = './Pitt_SBII_2023/2187T-5_2.0.4_P0007_Z00_DAPI.tif'\n",
        "\n",
        "# load in image to a variable 'im'\n",
        "im = imread(im_path)"
      ],
      "metadata": {
        "id": "VEfitKq4mVdn"
      },
      "execution_count": null,
      "outputs": []
    },
    {
      "cell_type": "code",
      "source": [
        "# display the test image\n",
        "plt.imshow(im)"
      ],
      "metadata": {
        "id": "zlgvHlPLmp_3"
      },
      "execution_count": null,
      "outputs": []
    },
    {
      "cell_type": "markdown",
      "source": [
        "#### Segmentation"
      ],
      "metadata": {
        "id": "ercUwXe7zSrO"
      }
    },
    {
      "cell_type": "markdown",
      "source": [
        "Before testing different segmentation algorithms, let's create a small sample image."
      ],
      "metadata": {
        "id": "mEcPMWopzXl3"
      }
    },
    {
      "cell_type": "code",
      "source": [
        "# cut the sample image\n",
        "im_small = im[1000:1200,1000:1200]\n",
        "\n",
        "# display the test image\n",
        "plt.imshow(im_small)"
      ],
      "metadata": {
        "id": "uJshE8XGmwq_"
      },
      "execution_count": null,
      "outputs": []
    },
    {
      "cell_type": "markdown",
      "source": [
        "Cellpose library provides following pre-trained models:\n",
        "\n",
        "'cyto', 'nuclei', 'tissuenet', 'livecell', 'cyto2', 'CP', 'CPx', 'TN1', 'TN2', 'TN3', 'LC1', 'LC2', 'LC3', 'LC4'\n",
        "\n",
        "Let's test 'nuclei' model first:"
      ],
      "metadata": {
        "id": "oTEGYu5_zrep"
      }
    },
    {
      "cell_type": "code",
      "source": [
        "# define the model (if used the first time in the session the model will be imported)\n",
        "model = models.CellposeModel(gpu=False, model_type='nuclei')\n",
        "\n",
        "# perform segmentation and store the result in the 'mask' image\n",
        "mask,_,_ = model.eval(im_small)"
      ],
      "metadata": {
        "id": "VB6KiS0Pnf83"
      },
      "execution_count": null,
      "outputs": []
    },
    {
      "cell_type": "code",
      "source": [
        "# visualize the results\n",
        "\n",
        "fig,axes = plt.subplots(1,2,figsize=(15,10))\n",
        "\n",
        "# display the original sample image\n",
        "axes[0].imshow(im_small)\n",
        "\n",
        "# display segmentation mask (each objects is displayed in different color)\n",
        "axes[1].imshow(mask,cmap='inferno',interpolation='nearest')"
      ],
      "metadata": {
        "id": "mOUmFYWtpZAn"
      },
      "execution_count": null,
      "outputs": []
    },
    {
      "cell_type": "markdown",
      "source": [
        "Now, let's try a 'TN1' model. \n",
        "\n",
        "Please note that this time we define the expected size of the objects by specifying the 'diameter' parameter. You can specify it for any of the cellpose models. \n",
        "\n",
        "Also, in this quick test we are not changing the names of the variables. After executing the cell above we will change both the model and the resulting mask - remember that the order of executing cells matter."
      ],
      "metadata": {
        "id": "2pRALRF32JXw"
      }
    },
    {
      "cell_type": "code",
      "source": [
        "# define the model (if it is used for the first time in the session the model will be imported)\n",
        "model = models.CellposeModel(gpu=False, model_type='TN1')\n",
        "\n",
        "# perform segmentation and store the result in the 'mask' image\n",
        "mask,_,_ = model.eval(im_small,diameter = 10)"
      ],
      "metadata": {
        "id": "srMIeLw32Hw4"
      },
      "execution_count": null,
      "outputs": []
    },
    {
      "cell_type": "code",
      "source": [
        "# visualize the results\n",
        "\n",
        "fig,axes = plt.subplots(1,2,figsize=(15,10))\n",
        "\n",
        "# display the original sample image\n",
        "axes[0].imshow(im_small)\n",
        "\n",
        "# display segmentation mask (each objects is displayed in different color)\n",
        "axes[1].imshow(mask,cmap='inferno',interpolation='nearest')"
      ],
      "metadata": {
        "id": "3pOXiL3Z2S_j"
      },
      "execution_count": null,
      "outputs": []
    },
    {
      "cell_type": "markdown",
      "source": [
        "Test a few other models to find the best segmentation."
      ],
      "metadata": {
        "id": "35chHte43nbb"
      }
    },
    {
      "cell_type": "code",
      "source": [
        "# define the model (if it is used for the first time in the session the model will be imported)\n",
        "model = models.CellposeModel(gpu=False, model_type= )\n",
        "\n",
        "# perform segmentation and store the result in the 'mask' image\n",
        "mask,_,_ = model.eval(im_small,diameter = 10)"
      ],
      "metadata": {
        "id": "G_TKBveT3zEy"
      },
      "execution_count": null,
      "outputs": []
    },
    {
      "cell_type": "code",
      "source": [
        "# visualize the results\n",
        "\n",
        "fig,axes = plt.subplots(1,2,figsize=(15,10))\n",
        "\n",
        "# display the original sample image\n",
        "axes[0].imshow(im_small)\n",
        "\n",
        "# display segmentation mask (each objects is displayed in different color)\n",
        "axes[1].imshow(mask,cmap='inferno',interpolation='nearest')"
      ],
      "metadata": {
        "id": "IknUJKVh26eN"
      },
      "execution_count": null,
      "outputs": []
    },
    {
      "cell_type": "markdown",
      "source": [
        "Once you identified the best segmentation algorithm, let's segment the whole image (it should run around 3 min):"
      ],
      "metadata": {
        "id": "Qi5pHa514o8t"
      }
    },
    {
      "cell_type": "code",
      "source": [
        "# define the model (if it is used for the first time in the session the model will be imported)\n",
        "model = models.CellposeModel(gpu=True, model_type= 'cyto')\n",
        "\n",
        "# perform segmentation and store the result in the 'mask' image\n",
        "mask,_,_ = model.eval(im,diameter = 25)"
      ],
      "metadata": {
        "id": "TNu3q99DpoDf"
      },
      "execution_count": null,
      "outputs": []
    },
    {
      "cell_type": "code",
      "source": [
        "# visualize the results\n",
        "\n",
        "fig,axes = plt.subplots(1,2,figsize=(15,10))\n",
        "\n",
        "# display the original sample image\n",
        "axes[0].imshow(im)\n",
        "\n",
        "# display segmentation mask (each objects is displayed in different color)\n",
        "axes[1].imshow(mask,cmap='inferno',interpolation='nearest')"
      ],
      "metadata": {
        "id": "4kve-oFfp6HY"
      },
      "execution_count": null,
      "outputs": []
    },
    {
      "cell_type": "markdown",
      "source": [
        "#### Calculate properties of cells"
      ],
      "metadata": {
        "id": "VbsoRJGr5AHE"
      }
    },
    {
      "cell_type": "markdown",
      "source": [
        "Once a mask is defined, calculating signals of individual objects is a straightforward task."
      ],
      "metadata": {
        "id": "dJKdcNUo5aC7"
      }
    },
    {
      "cell_type": "code",
      "source": [
        "# read in and visualize different channels\n",
        "\n",
        "im_cy3_path = im_path = './Pitt_SBII_2023/2187T-5_2.0.4_P0007_Z00_Cy3.tif'\n",
        "im_cy3 = imread(im_cy3_path)\n",
        "\n",
        "im_cy5_path = im_path = './Pitt_SBII_2023/2187T-5_2.0.4_P0007_Z00_Cy5.tif'\n",
        "im_cy5 = imread(im_cy5_path)\n",
        "\n",
        "im_fitc_path = im_path = './Pitt_SBII_2023/2187T-5_2.0.4_P0007_Z00_FITC.tif'\n",
        "im_fitc = imread(im_fitc_path)"
      ],
      "metadata": {
        "id": "i9C2rQ3b7L1W"
      },
      "execution_count": null,
      "outputs": []
    },
    {
      "cell_type": "code",
      "source": [
        "# visualize all the channels\n",
        "\n",
        "fig,axes = plt.subplots(1,4,figsize=(15,10))\n",
        "\n",
        "# display the original sample image\n",
        "axes[0].imshow(im)\n",
        "axes[0].set_title('DAPI')\n",
        "\n",
        "axes[1].imshow(im_fitc,vmax=10000)\n",
        "axes[1].set_title('FITC')\n",
        "\n",
        "axes[2].imshow(im_cy3,vmax=10000)\n",
        "axes[2].set_title('Cy3')\n",
        "\n",
        "axes[3].imshow(im_cy5,vmax=4000)\n",
        "axes[3].set_title('Cy5')\n",
        "\n",
        "# remove ticks from the display\n",
        "for ax in axes:\n",
        "\n",
        "    ax.set_xticks([])\n",
        "    ax.set_yticks([])"
      ],
      "metadata": {
        "id": "knhTL4f280Q_"
      },
      "execution_count": null,
      "outputs": []
    },
    {
      "cell_type": "code",
      "source": [
        "# define which properties of cells to calculate \n",
        "# see documentation here: https://scikit-image.org/docs/stable/api/skimage.measure.html#skimage.measure.regionprops\n",
        "\n",
        "selected_properties = ['label','centroid','area','mean_intensity']\n",
        "\n",
        "# put all the intensity channels together to create a nice package\n",
        "all_channels = np.stack([im,im_fitc,im_cy3,im_cy5],axis=2)\n",
        "\n",
        "# calculate properties of cells\n",
        "my_data = regionprops_table(mask, intensity_image = all_channels, properties = selected_properties)\n",
        "\n",
        "# put results in a nice table\n",
        "my_data = pd.DataFrame(my_data)"
      ],
      "metadata": {
        "id": "3MUZfOxRvkY5"
      },
      "execution_count": null,
      "outputs": []
    },
    {
      "cell_type": "code",
      "source": [
        "my_data"
      ],
      "metadata": {
        "id": "Q7SgYBQMBETb"
      },
      "execution_count": null,
      "outputs": []
    }
  ]
}