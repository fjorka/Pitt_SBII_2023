{
  "nbformat": 4,
  "nbformat_minor": 0,
  "metadata": {
    "colab": {
      "provenance": []
    },
    "kernelspec": {
      "name": "python3",
      "display_name": "Python 3"
    },
    "language_info": {
      "name": "python"
    }
  },
  "cells": [
    {
      "cell_type": "markdown",
      "source": [
        "## Understanding PHATE visualization"
      ],
      "metadata": {
        "id": "bSiEv2I0nQQl"
      }
    },
    {
      "cell_type": "markdown",
      "source": [
        "In this part of the class we need access to csv files. The cell before will clone the github repository into your session to give you access. \n",
        "\n",
        "You can see available files by clicking the folder icon in the left side menu. \n",
        "\n",
        "Alternatively you can upload files directly from your drive to the session sotrage by using the upload button (in the Files tab)."
      ],
      "metadata": {
        "id": "QhhaYKyj4zzB"
      }
    },
    {
      "cell_type": "code",
      "execution_count": null,
      "metadata": {
        "id": "FUwV218qnOCh"
      },
      "outputs": [],
      "source": [
        "!git clone https://github.com/fjorka/Pitt_SBII_2023.git"
      ]
    },
    {
      "cell_type": "markdown",
      "source": [
        "The cell below installs and imports necessary libraries that we are going to use."
      ],
      "metadata": {
        "id": "pgqhOBpX6EUC"
      }
    },
    {
      "cell_type": "code",
      "source": [
        "!pip install phate"
      ],
      "metadata": {
        "id": "vwfgNi8_oHar"
      },
      "execution_count": null,
      "outputs": []
    },
    {
      "cell_type": "code",
      "source": [
        "import pandas as pd\n",
        "import phate\n",
        "import matplotlib.pyplot as plt\n",
        "import seaborn as sn"
      ],
      "metadata": {
        "id": "g78MKCY06CZx"
      },
      "execution_count": 9,
      "outputs": []
    },
    {
      "cell_type": "markdown",
      "source": [
        "### Example 1"
      ],
      "metadata": {
        "id": "9OfyLv5YsZuC"
      }
    },
    {
      "cell_type": "markdown",
      "source": [
        "Import data into a table and display it."
      ],
      "metadata": {
        "id": "NhtgAZKWIOCh"
      }
    },
    {
      "cell_type": "code",
      "source": [
        "df = pd.read_csv('./Pitt_SBII_2023/single_cells_test_00.csv',index_col=0)\n",
        "df"
      ],
      "metadata": {
        "id": "pVWW7jfw6jUg"
      },
      "execution_count": null,
      "outputs": []
    },
    {
      "cell_type": "markdown",
      "source": [
        "Visualize the data as a 3D scatter plot."
      ],
      "metadata": {
        "id": "xy7cUL0xoBEm"
      }
    },
    {
      "cell_type": "code",
      "source": [
        "fig = plt.figure()\n",
        "ax = fig.add_subplot(projection='3d')\n",
        "\n",
        "ax.scatter(df.b, df.c, df.a,alpha = 0.5, s =1,c = 'black')\n",
        "\n",
        "ax.set_xlabel('b')\n",
        "ax.set_ylabel('c')\n",
        "ax.set_zlabel('a')"
      ],
      "metadata": {
        "id": "TyN07nblJE7e"
      },
      "execution_count": null,
      "outputs": []
    },
    {
      "cell_type": "markdown",
      "source": [
        "Use Phate to find 2D projection of the data."
      ],
      "metadata": {
        "id": "CbATWB_7qAbP"
      }
    },
    {
      "cell_type": "code",
      "source": [
        "phate_operator = phate.PHATE(n_components=2)\n",
        "\n",
        "phate_operator.set_params(gamma=0, t=40)\n",
        "\n",
        "phate_res = phate_operator.fit_transform(df)"
      ],
      "metadata": {
        "id": "pNJNKtf6opd6"
      },
      "execution_count": null,
      "outputs": []
    },
    {
      "cell_type": "code",
      "source": [
        "df_all = df\n",
        "df_all['phate1'] = phate_res[:,0]\n",
        "df_all['phate2'] = phate_res[:,1]\n",
        "\n",
        "fig,axes = plt.subplots(1,3,figsize=(15,5))\n",
        "sn.scatterplot(data = df_all, x = 'phate1',y = 'phate2',hue='a',ax = axes[0])\n",
        "sn.scatterplot(data = df_all, x = 'phate1',y = 'phate2',hue='b',ax = axes[1])\n",
        "sn.scatterplot(data = df_all, x = 'phate1',y = 'phate2',hue='c',ax = axes[2])"
      ],
      "metadata": {
        "id": "A0YIdPVqo8MZ"
      },
      "execution_count": null,
      "outputs": []
    },
    {
      "cell_type": "markdown",
      "source": [
        "### Example 2"
      ],
      "metadata": {
        "id": "XAl6_mpjszJD"
      }
    },
    {
      "cell_type": "markdown",
      "source": [
        "Import data into a table and display it."
      ],
      "metadata": {
        "id": "yBiXsO7Us5Jz"
      }
    },
    {
      "cell_type": "code",
      "source": [
        "df = pd.read_csv('./Pitt_SBII_2023/single_cells_test_01.csv',index_col=0)\n",
        "df"
      ],
      "metadata": {
        "id": "LXsAKfsZpMfQ"
      },
      "execution_count": null,
      "outputs": []
    },
    {
      "cell_type": "markdown",
      "source": [
        "Visualize the data as a 3D scatter plot."
      ],
      "metadata": {
        "id": "LCJAZRRDtF8W"
      }
    },
    {
      "cell_type": "code",
      "source": [
        "fig = plt.figure()\n",
        "ax = fig.add_subplot(projection='3d')\n",
        "\n",
        "ax.scatter(df.b, df.c, df.a,alpha = 0.5, s =1,c = 'black')\n",
        "\n",
        "ax.set_xlabel('b')\n",
        "ax.set_ylabel('c')\n",
        "ax.set_zlabel('a')"
      ],
      "metadata": {
        "id": "vH81fjAVs-NA"
      },
      "execution_count": null,
      "outputs": []
    },
    {
      "cell_type": "code",
      "source": [
        "fig = plt.figure()\n",
        "ax = fig.add_subplot(projection='3d')\n",
        "\n",
        "ax.scatter(df.a, df.c, df.d,alpha = 0.5, s =1,c = 'black')\n",
        "\n",
        "ax.set_xlabel('a')\n",
        "ax.set_ylabel('c')\n",
        "ax.set_zlabel('d')"
      ],
      "metadata": {
        "id": "I1UwcOgetPe4"
      },
      "execution_count": null,
      "outputs": []
    },
    {
      "cell_type": "markdown",
      "source": [
        "Use Phate to find 2D visualization of the data."
      ],
      "metadata": {
        "id": "I5h4HemfuJTW"
      }
    },
    {
      "cell_type": "code",
      "source": [
        "phate_operator = phate.PHATE(n_components=2)\n",
        "\n",
        "phate_operator.set_params(gamma=0, t=40)\n",
        "\n",
        "phate_res = phate_operator.fit_transform(df)"
      ],
      "metadata": {
        "id": "FGr3etvdtVbF"
      },
      "execution_count": null,
      "outputs": []
    },
    {
      "cell_type": "code",
      "source": [
        "df_all = df\n",
        "df_all['phate1'] = phate_res[:,0]\n",
        "df_all['phate2'] = phate_res[:,1]\n",
        "\n",
        "fig,axes = plt.subplots(1,4,figsize=(15,5))\n",
        "sn.scatterplot(data = df_all, x = 'phate1',y = 'phate2',hue='a',ax = axes[0])\n",
        "sn.scatterplot(data = df_all, x = 'phate1',y = 'phate2',hue='b',ax = axes[1])\n",
        "sn.scatterplot(data = df_all, x = 'phate1',y = 'phate2',hue='c',ax = axes[2])\n",
        "sn.scatterplot(data = df_all, x = 'phate1',y = 'phate2',hue='d',ax = axes[3])"
      ],
      "metadata": {
        "id": "RAub9pObuM-x"
      },
      "execution_count": null,
      "outputs": []
    },
    {
      "cell_type": "markdown",
      "source": [
        "### Example 3"
      ],
      "metadata": {
        "id": "Pz77O7Lzu3mX"
      }
    },
    {
      "cell_type": "markdown",
      "source": [
        "Import data into a table and display it."
      ],
      "metadata": {
        "id": "ag0xOHHzu8s2"
      }
    },
    {
      "cell_type": "code",
      "source": [
        "df = pd.read_csv('./Pitt_SBII_2023/single_cells_test_02.csv',index_col=0)\n",
        "df"
      ],
      "metadata": {
        "id": "W8KP4Oq1uaII"
      },
      "execution_count": null,
      "outputs": []
    },
    {
      "cell_type": "markdown",
      "source": [
        "Visualize the data as a 3D scatter plot."
      ],
      "metadata": {
        "id": "6zqG-CkdvHAH"
      }
    },
    {
      "cell_type": "code",
      "source": [
        "fig = plt.figure()\n",
        "ax = fig.add_subplot(projection='3d')\n",
        "\n",
        "ax.scatter(df.c, df.a, df.b,alpha = 0.5, s =1,c = 'black')\n",
        "\n",
        "ax.set_xlabel('a')\n",
        "ax.set_ylabel('b')\n",
        "ax.set_zlabel('c')"
      ],
      "metadata": {
        "id": "bJ2w6f3XvBKk"
      },
      "execution_count": null,
      "outputs": []
    },
    {
      "cell_type": "markdown",
      "source": [
        "Use Phate to find 2D visualization of the data."
      ],
      "metadata": {
        "id": "xa1jorVLvjSc"
      }
    },
    {
      "cell_type": "code",
      "source": [
        "phate_operator = phate.PHATE(n_components=2)\n",
        "\n",
        "phate_operator.set_params(gamma=0, t=40)\n",
        "\n",
        "phate_res = phate_operator.fit_transform(df)"
      ],
      "metadata": {
        "id": "hzpwojpbvLBC"
      },
      "execution_count": null,
      "outputs": []
    },
    {
      "cell_type": "code",
      "source": [
        "df_all = df\n",
        "df_all['phate1'] = phate_res[:,0]\n",
        "df_all['phate2'] = phate_res[:,1]\n",
        "\n",
        "fig,axes = plt.subplots(1,3,figsize=(15,5))\n",
        "sn.scatterplot(data = df_all, x = 'phate1',y = 'phate2',hue='a',ax = axes[0])\n",
        "sn.scatterplot(data = df_all, x = 'phate1',y = 'phate2',hue='b',ax = axes[1])\n",
        "sn.scatterplot(data = df_all, x = 'phate1',y = 'phate2',hue='c',ax = axes[2])"
      ],
      "metadata": {
        "id": "-RvAJrYEvl7C"
      },
      "execution_count": null,
      "outputs": []
    }
  ]
}